{
  "nbformat": 4,
  "nbformat_minor": 0,
  "metadata": {
    "colab": {
      "name": "DecisionTree.ipynb",
      "provenance": [],
      "collapsed_sections": []
    },
    "kernelspec": {
      "name": "python3",
      "display_name": "Python 3"
    }
  },
  "cells": [
    {
      "cell_type": "markdown",
      "metadata": {
        "id": "_5BhjmhNCTHG",
        "colab_type": "text"
      },
      "source": [
        "**Step1. Importing/Calling Classes**"
      ]
    },
    {
      "cell_type": "code",
      "metadata": {
        "id": "NfEEhFKe262v",
        "colab_type": "code",
        "colab": {}
      },
      "source": [
        "from sklearn.tree import DecisionTreeClassifier\n",
        "from sklearn.metrics import accuracy_score\n",
        "from sklearn.model_selection import train_test_split\n",
        "from sklearn import preprocessing       \n",
        "import pandas as pd \n",
        "from sklearn.externals.six import StringIO\n",
        "from IPython.display import Image\n",
        "from sklearn.tree import export_graphviz\n",
        "import pydotplus"
      ],
      "execution_count": null,
      "outputs": []
    },
    {
      "cell_type": "markdown",
      "metadata": {
        "id": "Iqv0CLZzCcxn",
        "colab_type": "text"
      },
      "source": [
        "**Step2 . Defining Data**"
      ]
    },
    {
      "cell_type": "code",
      "metadata": {
        "id": "4e4tnBfx4hSf",
        "colab_type": "code",
        "colab": {
          "base_uri": "https://localhost:8080/",
          "height": 415
        },
        "outputId": "f46f55c1-d33a-4dfc-f2ae-79da7f0f0030"
      },
      "source": [
        "col_names=['year','round','favorite','underdog','favorite_probability','favorite_win_flag']\n",
        "dataset = pd.read_csv('historical-538-ncaa-tournament-model-results.csv', names=col_names)\n",
        "\n",
        "# label encoder (labenc) object knows how to understand the word labels\n",
        "labenc = preprocessing.LabelEncoder()     \n",
        "\n",
        "#Encode lables from the Column 'favorite' and 'underdog'\n",
        "dataset['favorite']=labenc.fit_transform(dataset['favorite'])\n",
        "dataset['underdog']=labenc.fit_transform(dataset['underdog'])\n",
        "\n",
        "# to remove  the first row from the dataset as it contains the same column name repetedly\n",
        "dataset=dataset.drop(dataset.index[0])\n",
        "dataset"
      ],
      "execution_count": null,
      "outputs": [
        {
          "output_type": "execute_result",
          "data": {
            "text/html": [
              "<div>\n",
              "<style scoped>\n",
              "    .dataframe tbody tr th:only-of-type {\n",
              "        vertical-align: middle;\n",
              "    }\n",
              "\n",
              "    .dataframe tbody tr th {\n",
              "        vertical-align: top;\n",
              "    }\n",
              "\n",
              "    .dataframe thead th {\n",
              "        text-align: right;\n",
              "    }\n",
              "</style>\n",
              "<table border=\"1\" class=\"dataframe\">\n",
              "  <thead>\n",
              "    <tr style=\"text-align: right;\">\n",
              "      <th></th>\n",
              "      <th>year</th>\n",
              "      <th>round</th>\n",
              "      <th>favorite</th>\n",
              "      <th>underdog</th>\n",
              "      <th>favorite_probability</th>\n",
              "      <th>favorite_win_flag</th>\n",
              "    </tr>\n",
              "  </thead>\n",
              "  <tbody>\n",
              "    <tr>\n",
              "      <th>1</th>\n",
              "      <td>2014</td>\n",
              "      <td>2</td>\n",
              "      <td>57</td>\n",
              "      <td>5</td>\n",
              "      <td>0.501</td>\n",
              "      <td>1</td>\n",
              "    </tr>\n",
              "    <tr>\n",
              "      <th>2</th>\n",
              "      <td>2013</td>\n",
              "      <td>2</td>\n",
              "      <td>17</td>\n",
              "      <td>19</td>\n",
              "      <td>0.504</td>\n",
              "      <td>1</td>\n",
              "    </tr>\n",
              "    <tr>\n",
              "      <th>3</th>\n",
              "      <td>2013</td>\n",
              "      <td>1</td>\n",
              "      <td>21</td>\n",
              "      <td>51</td>\n",
              "      <td>0.506</td>\n",
              "      <td>1</td>\n",
              "    </tr>\n",
              "    <tr>\n",
              "      <th>4</th>\n",
              "      <td>2011</td>\n",
              "      <td>2</td>\n",
              "      <td>8</td>\n",
              "      <td>67</td>\n",
              "      <td>0.509</td>\n",
              "      <td>1</td>\n",
              "    </tr>\n",
              "    <tr>\n",
              "      <th>5</th>\n",
              "      <td>2012</td>\n",
              "      <td>3</td>\n",
              "      <td>8</td>\n",
              "      <td>30</td>\n",
              "      <td>0.509</td>\n",
              "      <td>1</td>\n",
              "    </tr>\n",
              "    <tr>\n",
              "      <th>...</th>\n",
              "      <td>...</td>\n",
              "      <td>...</td>\n",
              "      <td>...</td>\n",
              "      <td>...</td>\n",
              "      <td>...</td>\n",
              "      <td>...</td>\n",
              "    </tr>\n",
              "    <tr>\n",
              "      <th>249</th>\n",
              "      <td>2011</td>\n",
              "      <td>2</td>\n",
              "      <td>22</td>\n",
              "      <td>10</td>\n",
              "      <td>0.990</td>\n",
              "      <td>1</td>\n",
              "    </tr>\n",
              "    <tr>\n",
              "      <th>250</th>\n",
              "      <td>2012</td>\n",
              "      <td>2</td>\n",
              "      <td>24</td>\n",
              "      <td>131</td>\n",
              "      <td>0.991</td>\n",
              "      <td>1</td>\n",
              "    </tr>\n",
              "    <tr>\n",
              "      <th>251</th>\n",
              "      <td>2013</td>\n",
              "      <td>2</td>\n",
              "      <td>27</td>\n",
              "      <td>76</td>\n",
              "      <td>0.995</td>\n",
              "      <td>1</td>\n",
              "    </tr>\n",
              "    <tr>\n",
              "      <th>252</th>\n",
              "      <td>2011</td>\n",
              "      <td>2</td>\n",
              "      <td>12</td>\n",
              "      <td>35</td>\n",
              "      <td>0.995</td>\n",
              "      <td>1</td>\n",
              "    </tr>\n",
              "    <tr>\n",
              "      <th>253</th>\n",
              "      <td>2011</td>\n",
              "      <td>2</td>\n",
              "      <td>43</td>\n",
              "      <td>120</td>\n",
              "      <td>0.997</td>\n",
              "      <td>1</td>\n",
              "    </tr>\n",
              "  </tbody>\n",
              "</table>\n",
              "<p>253 rows × 6 columns</p>\n",
              "</div>"
            ],
            "text/plain": [
              "     year round  favorite  underdog favorite_probability favorite_win_flag\n",
              "1    2014     2        57         5                0.501                 1\n",
              "2    2013     2        17        19                0.504                 1\n",
              "3    2013     1        21        51                0.506                 1\n",
              "4    2011     2         8        67                0.509                 1\n",
              "5    2012     3         8        30                0.509                 1\n",
              "..    ...   ...       ...       ...                  ...               ...\n",
              "249  2011     2        22        10                0.990                 1\n",
              "250  2012     2        24       131                0.991                 1\n",
              "251  2013     2        27        76                0.995                 1\n",
              "252  2011     2        12        35                0.995                 1\n",
              "253  2011     2        43       120                0.997                 1\n",
              "\n",
              "[253 rows x 6 columns]"
            ]
          },
          "metadata": {
            "tags": []
          },
          "execution_count": 2
        }
      ]
    },
    {
      "cell_type": "code",
      "metadata": {
        "id": "TRWp7wV67kBJ",
        "colab_type": "code",
        "colab": {}
      },
      "source": [
        "Features=dataset.values[:,0:5]\n",
        "Labels=dataset.values[:,5]\n",
        "TrainFea,TestFeau,Trainlabel,Testlabel=train_test_split(Features,Labels,test_size=0.40,random_state=60)\n",
        "RTrainFea,RTestFeau,RTrainlabel,RTestlabel=train_test_split(Features,Labels,test_size=.40,random_state=55)"
      ],
      "execution_count": null,
      "outputs": []
    },
    {
      "cell_type": "markdown",
      "metadata": {
        "id": "BYZgemkRII_p",
        "colab_type": "text"
      },
      "source": [
        "**Step3. Fitting The Model**"
      ]
    },
    {
      "cell_type": "code",
      "metadata": {
        "id": "cgEOLqiRJDMB",
        "colab_type": "code",
        "colab": {
          "base_uri": "https://localhost:8080/",
          "height": 121
        },
        "outputId": "9b7b09d8-7754-4dc5-fc37-4d243fe0a3ef"
      },
      "source": [
        "# To optimize decision tree by prunning  ->(criterion=\"entropy\", max_depth=3) \n",
        "obj=DecisionTreeClassifier(criterion=\"entropy\", max_depth=3)\n",
        "obj.fit(TrainFea,Trainlabel)\n",
        "obj2=DecisionTreeClassifier(criterion=\"entropy\", max_depth=3)\n",
        "obj2.fit(RTrainFea,RTrainlabel)"
      ],
      "execution_count": null,
      "outputs": [
        {
          "output_type": "execute_result",
          "data": {
            "text/plain": [
              "DecisionTreeClassifier(ccp_alpha=0.0, class_weight=None, criterion='entropy',\n",
              "                       max_depth=3, max_features=None, max_leaf_nodes=None,\n",
              "                       min_impurity_decrease=0.0, min_impurity_split=None,\n",
              "                       min_samples_leaf=1, min_samples_split=2,\n",
              "                       min_weight_fraction_leaf=0.0, presort='deprecated',\n",
              "                       random_state=None, splitter='best')"
            ]
          },
          "metadata": {
            "tags": []
          },
          "execution_count": 11
        }
      ]
    },
    {
      "cell_type": "markdown",
      "metadata": {
        "id": "YbAwqY1JKIbD",
        "colab_type": "text"
      },
      "source": [
        "**Step4. Predicting the Model**"
      ]
    },
    {
      "cell_type": "code",
      "metadata": {
        "id": "VQQx6GGxn22M",
        "colab_type": "code",
        "colab": {}
      },
      "source": [
        "results=obj.predict(TestFeau)\n",
        "resultsR=obj2.predict(RTestFeau)"
      ],
      "execution_count": null,
      "outputs": []
    },
    {
      "cell_type": "markdown",
      "metadata": {
        "id": "cBqDqU1cKi8K",
        "colab_type": "text"
      },
      "source": [
        "**Step5. Evaluating the Model**"
      ]
    },
    {
      "cell_type": "code",
      "metadata": {
        "id": "KvTk5wYGp2Cn",
        "colab_type": "code",
        "colab": {}
      },
      "source": [
        "acc=accuracy_score(Testlabel,results)\n",
        "accR=accuracy_score(RTestlabel,resultsR)\n"
      ],
      "execution_count": null,
      "outputs": []
    },
    {
      "cell_type": "code",
      "metadata": {
        "id": "uM2bMPG9sSoG",
        "colab_type": "code",
        "colab": {
          "base_uri": "https://localhost:8080/",
          "height": 52
        },
        "outputId": "5f985d38-74a2-4379-d841-21d7414f59b9"
      },
      "source": [
        "print(acc*100)\n",
        "print(accR*100)"
      ],
      "execution_count": null,
      "outputs": [
        {
          "output_type": "stream",
          "text": [
            "72.54901960784314\n",
            "67.64705882352942\n"
          ],
          "name": "stdout"
        }
      ]
    },
    {
      "cell_type": "code",
      "metadata": {
        "id": "_Y6yORk0tWlx",
        "colab_type": "code",
        "colab": {
          "base_uri": "https://localhost:8080/",
          "height": 35
        },
        "outputId": "e475d251-d4eb-474d-b94e-1e5994deb29b"
      },
      "source": [
        "# Code to generate decision tree \n",
        "dot_data = StringIO()\n",
        "export_graphviz( obj,out_file = dot_data, filled = True, rounded= True, special_characters= True)\n",
        "graph = pydotplus.graph_from_dot_data(dot_data.getvalue())\n",
        "graph.write_png('tree.png')"
      ],
      "execution_count": null,
      "outputs": [
        {
          "output_type": "execute_result",
          "data": {
            "text/plain": [
              "True"
            ]
          },
          "metadata": {
            "tags": []
          },
          "execution_count": 15
        }
      ]
    },
    {
      "cell_type": "code",
      "metadata": {
        "id": "LDdOpxLQGGw9",
        "colab_type": "code",
        "colab": {
          "base_uri": "https://localhost:8080/",
          "height": 131
        },
        "outputId": "74837e60-d92d-4cc8-9d8c-bfc62708d27e"
      },
      "source": [
        "jupyter nbconvert --to html DecisionTree.ipynb"
      ],
      "execution_count": null,
      "outputs": [
        {
          "output_type": "error",
          "ename": "SyntaxError",
          "evalue": "ignored",
          "traceback": [
            "\u001b[0;36m  File \u001b[0;32m\"<ipython-input-16-f285ec5d134b>\"\u001b[0;36m, line \u001b[0;32m1\u001b[0m\n\u001b[0;31m    jupyter nbconvert --to html DecisionTree.ipynb\u001b[0m\n\u001b[0m                    ^\u001b[0m\n\u001b[0;31mSyntaxError\u001b[0m\u001b[0;31m:\u001b[0m invalid syntax\n"
          ]
        }
      ]
    },
    {
      "cell_type": "markdown",
      "metadata": {
        "id": "v3iVrzZb3pI9",
        "colab_type": "text"
      },
      "source": [
        ""
      ]
    }
  ]
}