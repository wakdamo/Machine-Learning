{
  "nbformat": 4,
  "nbformat_minor": 0,
  "metadata": {
    "colab": {
      "name": "MultipleLinearRegression.ipynb",
      "provenance": [],
      "collapsed_sections": []
    },
    "kernelspec": {
      "name": "python3",
      "display_name": "Python 3"
    }
  },
  "cells": [
    {
      "cell_type": "markdown",
      "metadata": {
        "id": "I8sUktB26nIo",
        "colab_type": "text"
      },
      "source": [
        "**Step1. Importing/Calling Classes**"
      ]
    },
    {
      "cell_type": "code",
      "metadata": {
        "id": "An8JEeVIrahZ",
        "colab_type": "code",
        "colab": {}
      },
      "source": [
        "import pandas as pd\n",
        "import numpy as np\n",
        "import matplotlib.pyplot as plt\n",
        "from sklearn.linear_model import LinearRegression\n",
        "from sklearn.model_selection import train_test_split\n",
        "from sklearn.metrics import mean_squared_error\n",
        "from sklearn.metrics import mean_absolute_error"
      ],
      "execution_count": null,
      "outputs": []
    },
    {
      "cell_type": "markdown",
      "metadata": {
        "id": "zkTepvcZ-3DB",
        "colab_type": "text"
      },
      "source": [
        "**Step2. Defining Data**"
      ]
    },
    {
      "cell_type": "code",
      "metadata": {
        "id": "37wqT45KrjuG",
        "colab_type": "code",
        "colab": {
          "base_uri": "https://localhost:8080/",
          "height": 446
        },
        "outputId": "2297d9b8-d9cf-47b2-d8f7-2f1cb86727c4"
      },
      "source": [
        "col_names=['country','confederation','population_share','tv_audience_share','gdp_weighted_share']\n",
        "#[index_col=0] First column countries to use as an index\n",
        "df= pd.read_csv('fifa_countries_audience.csv',names=col_names, index_col=0) \n",
        "# Remove first row as it contains same name as the columns in dataset\n",
        "df=df.drop(df.index[0])\n",
        "#To wipe-out rows which contains '0.0' to avoid data redundancy\n",
        "df=df[(df!= '0.0').all(1)]\n",
        "df\n"
      ],
      "execution_count": null,
      "outputs": [
        {
          "output_type": "execute_result",
          "data": {
            "text/html": [
              "<div>\n",
              "<style scoped>\n",
              "    .dataframe tbody tr th:only-of-type {\n",
              "        vertical-align: middle;\n",
              "    }\n",
              "\n",
              "    .dataframe tbody tr th {\n",
              "        vertical-align: top;\n",
              "    }\n",
              "\n",
              "    .dataframe thead th {\n",
              "        text-align: right;\n",
              "    }\n",
              "</style>\n",
              "<table border=\"1\" class=\"dataframe\">\n",
              "  <thead>\n",
              "    <tr style=\"text-align: right;\">\n",
              "      <th></th>\n",
              "      <th>confederation</th>\n",
              "      <th>population_share</th>\n",
              "      <th>tv_audience_share</th>\n",
              "      <th>gdp_weighted_share</th>\n",
              "    </tr>\n",
              "    <tr>\n",
              "      <th>country</th>\n",
              "      <th></th>\n",
              "      <th></th>\n",
              "      <th></th>\n",
              "      <th></th>\n",
              "    </tr>\n",
              "  </thead>\n",
              "  <tbody>\n",
              "    <tr>\n",
              "      <th>United States</th>\n",
              "      <td>CONCACAF</td>\n",
              "      <td>4.5</td>\n",
              "      <td>4.3</td>\n",
              "      <td>11.3</td>\n",
              "    </tr>\n",
              "    <tr>\n",
              "      <th>Japan</th>\n",
              "      <td>AFC</td>\n",
              "      <td>1.9</td>\n",
              "      <td>4.9</td>\n",
              "      <td>9.1</td>\n",
              "    </tr>\n",
              "    <tr>\n",
              "      <th>China</th>\n",
              "      <td>AFC</td>\n",
              "      <td>19.5</td>\n",
              "      <td>14.8</td>\n",
              "      <td>7.3</td>\n",
              "    </tr>\n",
              "    <tr>\n",
              "      <th>Germany</th>\n",
              "      <td>UEFA</td>\n",
              "      <td>1.2</td>\n",
              "      <td>2.9</td>\n",
              "      <td>6.3</td>\n",
              "    </tr>\n",
              "    <tr>\n",
              "      <th>Brazil</th>\n",
              "      <td>CONMEBOL</td>\n",
              "      <td>2.8</td>\n",
              "      <td>7.1</td>\n",
              "      <td>5.4</td>\n",
              "    </tr>\n",
              "    <tr>\n",
              "      <th>...</th>\n",
              "      <td>...</td>\n",
              "      <td>...</td>\n",
              "      <td>...</td>\n",
              "      <td>...</td>\n",
              "    </tr>\n",
              "    <tr>\n",
              "      <th>Lebanon</th>\n",
              "      <td>AFC</td>\n",
              "      <td>0.1</td>\n",
              "      <td>0.1</td>\n",
              "      <td>0.1</td>\n",
              "    </tr>\n",
              "    <tr>\n",
              "      <th>Jordan</th>\n",
              "      <td>AFC</td>\n",
              "      <td>0.1</td>\n",
              "      <td>0.1</td>\n",
              "      <td>0.1</td>\n",
              "    </tr>\n",
              "    <tr>\n",
              "      <th>Honduras</th>\n",
              "      <td>CONCACAF</td>\n",
              "      <td>0.1</td>\n",
              "      <td>0.3</td>\n",
              "      <td>0.1</td>\n",
              "    </tr>\n",
              "    <tr>\n",
              "      <th>Turkmenistan</th>\n",
              "      <td>AFC</td>\n",
              "      <td>0.1</td>\n",
              "      <td>0.1</td>\n",
              "      <td>0.1</td>\n",
              "    </tr>\n",
              "    <tr>\n",
              "      <th>Angola</th>\n",
              "      <td>CAF</td>\n",
              "      <td>0.3</td>\n",
              "      <td>0.1</td>\n",
              "      <td>0.1</td>\n",
              "    </tr>\n",
              "  </tbody>\n",
              "</table>\n",
              "<p>80 rows × 4 columns</p>\n",
              "</div>"
            ],
            "text/plain": [
              "              confederation  ... gdp_weighted_share\n",
              "country                      ...                   \n",
              "United States      CONCACAF  ...               11.3\n",
              "Japan                   AFC  ...                9.1\n",
              "China                   AFC  ...                7.3\n",
              "Germany                UEFA  ...                6.3\n",
              "Brazil             CONMEBOL  ...                5.4\n",
              "...                     ...  ...                ...\n",
              "Lebanon                 AFC  ...                0.1\n",
              "Jordan                  AFC  ...                0.1\n",
              "Honduras           CONCACAF  ...                0.1\n",
              "Turkmenistan            AFC  ...                0.1\n",
              "Angola                  CAF  ...                0.1\n",
              "\n",
              "[80 rows x 4 columns]"
            ]
          },
          "metadata": {
            "tags": []
          },
          "execution_count": 3
        }
      ]
    },
    {
      "cell_type": "code",
      "metadata": {
        "id": "CSzkXn4VaHVp",
        "colab_type": "code",
        "colab": {
          "base_uri": "https://localhost:8080/",
          "height": 446
        },
        "outputId": "623f3d4a-6486-49c8-c185-0f3726954d04"
      },
      "source": [
        "# Use get_dummies() method to get all the dummy columns \n",
        "dummies=pd.get_dummies(df.confederation)\n",
        "dummies"
      ],
      "execution_count": null,
      "outputs": [
        {
          "output_type": "execute_result",
          "data": {
            "text/html": [
              "<div>\n",
              "<style scoped>\n",
              "    .dataframe tbody tr th:only-of-type {\n",
              "        vertical-align: middle;\n",
              "    }\n",
              "\n",
              "    .dataframe tbody tr th {\n",
              "        vertical-align: top;\n",
              "    }\n",
              "\n",
              "    .dataframe thead th {\n",
              "        text-align: right;\n",
              "    }\n",
              "</style>\n",
              "<table border=\"1\" class=\"dataframe\">\n",
              "  <thead>\n",
              "    <tr style=\"text-align: right;\">\n",
              "      <th></th>\n",
              "      <th>AFC</th>\n",
              "      <th>CAF</th>\n",
              "      <th>CONCACAF</th>\n",
              "      <th>CONMEBOL</th>\n",
              "      <th>OFC</th>\n",
              "      <th>UEFA</th>\n",
              "    </tr>\n",
              "    <tr>\n",
              "      <th>country</th>\n",
              "      <th></th>\n",
              "      <th></th>\n",
              "      <th></th>\n",
              "      <th></th>\n",
              "      <th></th>\n",
              "      <th></th>\n",
              "    </tr>\n",
              "  </thead>\n",
              "  <tbody>\n",
              "    <tr>\n",
              "      <th>United States</th>\n",
              "      <td>0</td>\n",
              "      <td>0</td>\n",
              "      <td>1</td>\n",
              "      <td>0</td>\n",
              "      <td>0</td>\n",
              "      <td>0</td>\n",
              "    </tr>\n",
              "    <tr>\n",
              "      <th>Japan</th>\n",
              "      <td>1</td>\n",
              "      <td>0</td>\n",
              "      <td>0</td>\n",
              "      <td>0</td>\n",
              "      <td>0</td>\n",
              "      <td>0</td>\n",
              "    </tr>\n",
              "    <tr>\n",
              "      <th>China</th>\n",
              "      <td>1</td>\n",
              "      <td>0</td>\n",
              "      <td>0</td>\n",
              "      <td>0</td>\n",
              "      <td>0</td>\n",
              "      <td>0</td>\n",
              "    </tr>\n",
              "    <tr>\n",
              "      <th>Germany</th>\n",
              "      <td>0</td>\n",
              "      <td>0</td>\n",
              "      <td>0</td>\n",
              "      <td>0</td>\n",
              "      <td>0</td>\n",
              "      <td>1</td>\n",
              "    </tr>\n",
              "    <tr>\n",
              "      <th>Brazil</th>\n",
              "      <td>0</td>\n",
              "      <td>0</td>\n",
              "      <td>0</td>\n",
              "      <td>1</td>\n",
              "      <td>0</td>\n",
              "      <td>0</td>\n",
              "    </tr>\n",
              "    <tr>\n",
              "      <th>...</th>\n",
              "      <td>...</td>\n",
              "      <td>...</td>\n",
              "      <td>...</td>\n",
              "      <td>...</td>\n",
              "      <td>...</td>\n",
              "      <td>...</td>\n",
              "    </tr>\n",
              "    <tr>\n",
              "      <th>Lebanon</th>\n",
              "      <td>1</td>\n",
              "      <td>0</td>\n",
              "      <td>0</td>\n",
              "      <td>0</td>\n",
              "      <td>0</td>\n",
              "      <td>0</td>\n",
              "    </tr>\n",
              "    <tr>\n",
              "      <th>Jordan</th>\n",
              "      <td>1</td>\n",
              "      <td>0</td>\n",
              "      <td>0</td>\n",
              "      <td>0</td>\n",
              "      <td>0</td>\n",
              "      <td>0</td>\n",
              "    </tr>\n",
              "    <tr>\n",
              "      <th>Honduras</th>\n",
              "      <td>0</td>\n",
              "      <td>0</td>\n",
              "      <td>1</td>\n",
              "      <td>0</td>\n",
              "      <td>0</td>\n",
              "      <td>0</td>\n",
              "    </tr>\n",
              "    <tr>\n",
              "      <th>Turkmenistan</th>\n",
              "      <td>1</td>\n",
              "      <td>0</td>\n",
              "      <td>0</td>\n",
              "      <td>0</td>\n",
              "      <td>0</td>\n",
              "      <td>0</td>\n",
              "    </tr>\n",
              "    <tr>\n",
              "      <th>Angola</th>\n",
              "      <td>0</td>\n",
              "      <td>1</td>\n",
              "      <td>0</td>\n",
              "      <td>0</td>\n",
              "      <td>0</td>\n",
              "      <td>0</td>\n",
              "    </tr>\n",
              "  </tbody>\n",
              "</table>\n",
              "<p>80 rows × 6 columns</p>\n",
              "</div>"
            ],
            "text/plain": [
              "               AFC  CAF  CONCACAF  CONMEBOL  OFC  UEFA\n",
              "country                                               \n",
              "United States    0    0         1         0    0     0\n",
              "Japan            1    0         0         0    0     0\n",
              "China            1    0         0         0    0     0\n",
              "Germany          0    0         0         0    0     1\n",
              "Brazil           0    0         0         1    0     0\n",
              "...            ...  ...       ...       ...  ...   ...\n",
              "Lebanon          1    0         0         0    0     0\n",
              "Jordan           1    0         0         0    0     0\n",
              "Honduras         0    0         1         0    0     0\n",
              "Turkmenistan     1    0         0         0    0     0\n",
              "Angola           0    1         0         0    0     0\n",
              "\n",
              "[80 rows x 6 columns]"
            ]
          },
          "metadata": {
            "tags": []
          },
          "execution_count": 4
        }
      ]
    },
    {
      "cell_type": "code",
      "metadata": {
        "id": "WNftFjH4aK4d",
        "colab_type": "code",
        "colab": {
          "base_uri": "https://localhost:8080/",
          "height": 466
        },
        "outputId": "5b0defe0-acf1-4a13-d338-76a9e9bd8364"
      },
      "source": [
        "# concatenate dummie columns with original dataframe\n",
        "merged=pd.concat([df,dummies], axis='columns')\n",
        "merged"
      ],
      "execution_count": null,
      "outputs": [
        {
          "output_type": "execute_result",
          "data": {
            "text/html": [
              "<div>\n",
              "<style scoped>\n",
              "    .dataframe tbody tr th:only-of-type {\n",
              "        vertical-align: middle;\n",
              "    }\n",
              "\n",
              "    .dataframe tbody tr th {\n",
              "        vertical-align: top;\n",
              "    }\n",
              "\n",
              "    .dataframe thead th {\n",
              "        text-align: right;\n",
              "    }\n",
              "</style>\n",
              "<table border=\"1\" class=\"dataframe\">\n",
              "  <thead>\n",
              "    <tr style=\"text-align: right;\">\n",
              "      <th></th>\n",
              "      <th>confederation</th>\n",
              "      <th>population_share</th>\n",
              "      <th>tv_audience_share</th>\n",
              "      <th>gdp_weighted_share</th>\n",
              "      <th>AFC</th>\n",
              "      <th>CAF</th>\n",
              "      <th>CONCACAF</th>\n",
              "      <th>CONMEBOL</th>\n",
              "      <th>OFC</th>\n",
              "      <th>UEFA</th>\n",
              "    </tr>\n",
              "    <tr>\n",
              "      <th>country</th>\n",
              "      <th></th>\n",
              "      <th></th>\n",
              "      <th></th>\n",
              "      <th></th>\n",
              "      <th></th>\n",
              "      <th></th>\n",
              "      <th></th>\n",
              "      <th></th>\n",
              "      <th></th>\n",
              "      <th></th>\n",
              "    </tr>\n",
              "  </thead>\n",
              "  <tbody>\n",
              "    <tr>\n",
              "      <th>United States</th>\n",
              "      <td>CONCACAF</td>\n",
              "      <td>4.5</td>\n",
              "      <td>4.3</td>\n",
              "      <td>11.3</td>\n",
              "      <td>0</td>\n",
              "      <td>0</td>\n",
              "      <td>1</td>\n",
              "      <td>0</td>\n",
              "      <td>0</td>\n",
              "      <td>0</td>\n",
              "    </tr>\n",
              "    <tr>\n",
              "      <th>Japan</th>\n",
              "      <td>AFC</td>\n",
              "      <td>1.9</td>\n",
              "      <td>4.9</td>\n",
              "      <td>9.1</td>\n",
              "      <td>1</td>\n",
              "      <td>0</td>\n",
              "      <td>0</td>\n",
              "      <td>0</td>\n",
              "      <td>0</td>\n",
              "      <td>0</td>\n",
              "    </tr>\n",
              "    <tr>\n",
              "      <th>China</th>\n",
              "      <td>AFC</td>\n",
              "      <td>19.5</td>\n",
              "      <td>14.8</td>\n",
              "      <td>7.3</td>\n",
              "      <td>1</td>\n",
              "      <td>0</td>\n",
              "      <td>0</td>\n",
              "      <td>0</td>\n",
              "      <td>0</td>\n",
              "      <td>0</td>\n",
              "    </tr>\n",
              "    <tr>\n",
              "      <th>Germany</th>\n",
              "      <td>UEFA</td>\n",
              "      <td>1.2</td>\n",
              "      <td>2.9</td>\n",
              "      <td>6.3</td>\n",
              "      <td>0</td>\n",
              "      <td>0</td>\n",
              "      <td>0</td>\n",
              "      <td>0</td>\n",
              "      <td>0</td>\n",
              "      <td>1</td>\n",
              "    </tr>\n",
              "    <tr>\n",
              "      <th>Brazil</th>\n",
              "      <td>CONMEBOL</td>\n",
              "      <td>2.8</td>\n",
              "      <td>7.1</td>\n",
              "      <td>5.4</td>\n",
              "      <td>0</td>\n",
              "      <td>0</td>\n",
              "      <td>0</td>\n",
              "      <td>1</td>\n",
              "      <td>0</td>\n",
              "      <td>0</td>\n",
              "    </tr>\n",
              "    <tr>\n",
              "      <th>...</th>\n",
              "      <td>...</td>\n",
              "      <td>...</td>\n",
              "      <td>...</td>\n",
              "      <td>...</td>\n",
              "      <td>...</td>\n",
              "      <td>...</td>\n",
              "      <td>...</td>\n",
              "      <td>...</td>\n",
              "      <td>...</td>\n",
              "      <td>...</td>\n",
              "    </tr>\n",
              "    <tr>\n",
              "      <th>Lebanon</th>\n",
              "      <td>AFC</td>\n",
              "      <td>0.1</td>\n",
              "      <td>0.1</td>\n",
              "      <td>0.1</td>\n",
              "      <td>1</td>\n",
              "      <td>0</td>\n",
              "      <td>0</td>\n",
              "      <td>0</td>\n",
              "      <td>0</td>\n",
              "      <td>0</td>\n",
              "    </tr>\n",
              "    <tr>\n",
              "      <th>Jordan</th>\n",
              "      <td>AFC</td>\n",
              "      <td>0.1</td>\n",
              "      <td>0.1</td>\n",
              "      <td>0.1</td>\n",
              "      <td>1</td>\n",
              "      <td>0</td>\n",
              "      <td>0</td>\n",
              "      <td>0</td>\n",
              "      <td>0</td>\n",
              "      <td>0</td>\n",
              "    </tr>\n",
              "    <tr>\n",
              "      <th>Honduras</th>\n",
              "      <td>CONCACAF</td>\n",
              "      <td>0.1</td>\n",
              "      <td>0.3</td>\n",
              "      <td>0.1</td>\n",
              "      <td>0</td>\n",
              "      <td>0</td>\n",
              "      <td>1</td>\n",
              "      <td>0</td>\n",
              "      <td>0</td>\n",
              "      <td>0</td>\n",
              "    </tr>\n",
              "    <tr>\n",
              "      <th>Turkmenistan</th>\n",
              "      <td>AFC</td>\n",
              "      <td>0.1</td>\n",
              "      <td>0.1</td>\n",
              "      <td>0.1</td>\n",
              "      <td>1</td>\n",
              "      <td>0</td>\n",
              "      <td>0</td>\n",
              "      <td>0</td>\n",
              "      <td>0</td>\n",
              "      <td>0</td>\n",
              "    </tr>\n",
              "    <tr>\n",
              "      <th>Angola</th>\n",
              "      <td>CAF</td>\n",
              "      <td>0.3</td>\n",
              "      <td>0.1</td>\n",
              "      <td>0.1</td>\n",
              "      <td>0</td>\n",
              "      <td>1</td>\n",
              "      <td>0</td>\n",
              "      <td>0</td>\n",
              "      <td>0</td>\n",
              "      <td>0</td>\n",
              "    </tr>\n",
              "  </tbody>\n",
              "</table>\n",
              "<p>80 rows × 10 columns</p>\n",
              "</div>"
            ],
            "text/plain": [
              "              confederation population_share  ... OFC UEFA\n",
              "country                                       ...         \n",
              "United States      CONCACAF              4.5  ...   0    0\n",
              "Japan                   AFC              1.9  ...   0    0\n",
              "China                   AFC             19.5  ...   0    0\n",
              "Germany                UEFA              1.2  ...   0    1\n",
              "Brazil             CONMEBOL              2.8  ...   0    0\n",
              "...                     ...              ...  ...  ..  ...\n",
              "Lebanon                 AFC              0.1  ...   0    0\n",
              "Jordan                  AFC              0.1  ...   0    0\n",
              "Honduras           CONCACAF              0.1  ...   0    0\n",
              "Turkmenistan            AFC              0.1  ...   0    0\n",
              "Angola                  CAF              0.3  ...   0    0\n",
              "\n",
              "[80 rows x 10 columns]"
            ]
          },
          "metadata": {
            "tags": []
          },
          "execution_count": 5
        }
      ]
    },
    {
      "cell_type": "code",
      "metadata": {
        "id": "PNa5h2aka_Zp",
        "colab_type": "code",
        "colab": {
          "base_uri": "https://localhost:8080/",
          "height": 446
        },
        "outputId": "490c1ae3-7fe1-4591-a9ef-501a95dbd4d7"
      },
      "source": [
        "#Dropping columns to avoid 'Dummy Variable Trap' \n",
        "final =merged.drop(['confederation','OFC'], axis='columns')\n",
        "final"
      ],
      "execution_count": null,
      "outputs": [
        {
          "output_type": "execute_result",
          "data": {
            "text/html": [
              "<div>\n",
              "<style scoped>\n",
              "    .dataframe tbody tr th:only-of-type {\n",
              "        vertical-align: middle;\n",
              "    }\n",
              "\n",
              "    .dataframe tbody tr th {\n",
              "        vertical-align: top;\n",
              "    }\n",
              "\n",
              "    .dataframe thead th {\n",
              "        text-align: right;\n",
              "    }\n",
              "</style>\n",
              "<table border=\"1\" class=\"dataframe\">\n",
              "  <thead>\n",
              "    <tr style=\"text-align: right;\">\n",
              "      <th></th>\n",
              "      <th>population_share</th>\n",
              "      <th>tv_audience_share</th>\n",
              "      <th>gdp_weighted_share</th>\n",
              "      <th>AFC</th>\n",
              "      <th>CAF</th>\n",
              "      <th>CONCACAF</th>\n",
              "      <th>CONMEBOL</th>\n",
              "      <th>UEFA</th>\n",
              "    </tr>\n",
              "    <tr>\n",
              "      <th>country</th>\n",
              "      <th></th>\n",
              "      <th></th>\n",
              "      <th></th>\n",
              "      <th></th>\n",
              "      <th></th>\n",
              "      <th></th>\n",
              "      <th></th>\n",
              "      <th></th>\n",
              "    </tr>\n",
              "  </thead>\n",
              "  <tbody>\n",
              "    <tr>\n",
              "      <th>United States</th>\n",
              "      <td>4.5</td>\n",
              "      <td>4.3</td>\n",
              "      <td>11.3</td>\n",
              "      <td>0</td>\n",
              "      <td>0</td>\n",
              "      <td>1</td>\n",
              "      <td>0</td>\n",
              "      <td>0</td>\n",
              "    </tr>\n",
              "    <tr>\n",
              "      <th>Japan</th>\n",
              "      <td>1.9</td>\n",
              "      <td>4.9</td>\n",
              "      <td>9.1</td>\n",
              "      <td>1</td>\n",
              "      <td>0</td>\n",
              "      <td>0</td>\n",
              "      <td>0</td>\n",
              "      <td>0</td>\n",
              "    </tr>\n",
              "    <tr>\n",
              "      <th>China</th>\n",
              "      <td>19.5</td>\n",
              "      <td>14.8</td>\n",
              "      <td>7.3</td>\n",
              "      <td>1</td>\n",
              "      <td>0</td>\n",
              "      <td>0</td>\n",
              "      <td>0</td>\n",
              "      <td>0</td>\n",
              "    </tr>\n",
              "    <tr>\n",
              "      <th>Germany</th>\n",
              "      <td>1.2</td>\n",
              "      <td>2.9</td>\n",
              "      <td>6.3</td>\n",
              "      <td>0</td>\n",
              "      <td>0</td>\n",
              "      <td>0</td>\n",
              "      <td>0</td>\n",
              "      <td>1</td>\n",
              "    </tr>\n",
              "    <tr>\n",
              "      <th>Brazil</th>\n",
              "      <td>2.8</td>\n",
              "      <td>7.1</td>\n",
              "      <td>5.4</td>\n",
              "      <td>0</td>\n",
              "      <td>0</td>\n",
              "      <td>0</td>\n",
              "      <td>1</td>\n",
              "      <td>0</td>\n",
              "    </tr>\n",
              "    <tr>\n",
              "      <th>...</th>\n",
              "      <td>...</td>\n",
              "      <td>...</td>\n",
              "      <td>...</td>\n",
              "      <td>...</td>\n",
              "      <td>...</td>\n",
              "      <td>...</td>\n",
              "      <td>...</td>\n",
              "      <td>...</td>\n",
              "    </tr>\n",
              "    <tr>\n",
              "      <th>Lebanon</th>\n",
              "      <td>0.1</td>\n",
              "      <td>0.1</td>\n",
              "      <td>0.1</td>\n",
              "      <td>1</td>\n",
              "      <td>0</td>\n",
              "      <td>0</td>\n",
              "      <td>0</td>\n",
              "      <td>0</td>\n",
              "    </tr>\n",
              "    <tr>\n",
              "      <th>Jordan</th>\n",
              "      <td>0.1</td>\n",
              "      <td>0.1</td>\n",
              "      <td>0.1</td>\n",
              "      <td>1</td>\n",
              "      <td>0</td>\n",
              "      <td>0</td>\n",
              "      <td>0</td>\n",
              "      <td>0</td>\n",
              "    </tr>\n",
              "    <tr>\n",
              "      <th>Honduras</th>\n",
              "      <td>0.1</td>\n",
              "      <td>0.3</td>\n",
              "      <td>0.1</td>\n",
              "      <td>0</td>\n",
              "      <td>0</td>\n",
              "      <td>1</td>\n",
              "      <td>0</td>\n",
              "      <td>0</td>\n",
              "    </tr>\n",
              "    <tr>\n",
              "      <th>Turkmenistan</th>\n",
              "      <td>0.1</td>\n",
              "      <td>0.1</td>\n",
              "      <td>0.1</td>\n",
              "      <td>1</td>\n",
              "      <td>0</td>\n",
              "      <td>0</td>\n",
              "      <td>0</td>\n",
              "      <td>0</td>\n",
              "    </tr>\n",
              "    <tr>\n",
              "      <th>Angola</th>\n",
              "      <td>0.3</td>\n",
              "      <td>0.1</td>\n",
              "      <td>0.1</td>\n",
              "      <td>0</td>\n",
              "      <td>1</td>\n",
              "      <td>0</td>\n",
              "      <td>0</td>\n",
              "      <td>0</td>\n",
              "    </tr>\n",
              "  </tbody>\n",
              "</table>\n",
              "<p>80 rows × 8 columns</p>\n",
              "</div>"
            ],
            "text/plain": [
              "              population_share tv_audience_share  ... CONMEBOL  UEFA\n",
              "country                                           ...               \n",
              "United States              4.5               4.3  ...        0     0\n",
              "Japan                      1.9               4.9  ...        0     0\n",
              "China                     19.5              14.8  ...        0     0\n",
              "Germany                    1.2               2.9  ...        0     1\n",
              "Brazil                     2.8               7.1  ...        1     0\n",
              "...                        ...               ...  ...      ...   ...\n",
              "Lebanon                    0.1               0.1  ...        0     0\n",
              "Jordan                     0.1               0.1  ...        0     0\n",
              "Honduras                   0.1               0.3  ...        0     0\n",
              "Turkmenistan               0.1               0.1  ...        0     0\n",
              "Angola                     0.3               0.1  ...        0     0\n",
              "\n",
              "[80 rows x 8 columns]"
            ]
          },
          "metadata": {
            "tags": []
          },
          "execution_count": 6
        }
      ]
    },
    {
      "cell_type": "code",
      "metadata": {
        "id": "mtyTYCl_dBtw",
        "colab_type": "code",
        "colab": {
          "base_uri": "https://localhost:8080/",
          "height": 243
        },
        "outputId": "1a96cd55-62cf-41f3-b6a4-16084d179ca6"
      },
      "source": [
        "#independent varable \n",
        "Y= final.tv_audience_share\n",
        "Y"
      ],
      "execution_count": null,
      "outputs": [
        {
          "output_type": "execute_result",
          "data": {
            "text/plain": [
              "country\n",
              "United States     4.3\n",
              "Japan             4.9\n",
              "China            14.8\n",
              "Germany           2.9\n",
              "Brazil            7.1\n",
              "                 ... \n",
              "Lebanon           0.1\n",
              "Jordan            0.1\n",
              "Honduras          0.3\n",
              "Turkmenistan      0.1\n",
              "Angola            0.1\n",
              "Name: tv_audience_share, Length: 80, dtype: object"
            ]
          },
          "metadata": {
            "tags": []
          },
          "execution_count": 7
        }
      ]
    },
    {
      "cell_type": "code",
      "metadata": {
        "id": "BoPn2M43h_Uo",
        "colab_type": "code",
        "colab": {
          "base_uri": "https://localhost:8080/",
          "height": 1000
        },
        "outputId": "ba596ce9-f93a-4143-ce5c-8ccba14096f5"
      },
      "source": [
        "Overall_features=final.iloc[:,[0,2,3,4,5,6,7]].values\n",
        "Overall_features=Overall_features.astype('float32')\n",
        "print(Overall_features)\n",
        "Overall_labels=final.iloc[:,1].values\n",
        "Overall_labels=Overall_labels.astype('float32')\n",
        "print(Overall_labels)"
      ],
      "execution_count": null,
      "outputs": [
        {
          "output_type": "stream",
          "text": [
            "[[ 4.5 11.3  0.   0.   1.   0.   0. ]\n",
            " [ 1.9  9.1  1.   0.   0.   0.   0. ]\n",
            " [19.5  7.3  1.   0.   0.   0.   0. ]\n",
            " [ 1.2  6.3  0.   0.   0.   0.   1. ]\n",
            " [ 2.8  5.4  0.   0.   0.   1.   0. ]\n",
            " [ 0.9  4.2  0.   0.   0.   0.   1. ]\n",
            " [ 0.9  4.   0.   0.   0.   0.   1. ]\n",
            " [ 0.9  4.   0.   0.   0.   0.   1. ]\n",
            " [ 2.1  3.5  0.   0.   0.   0.   1. ]\n",
            " [ 0.7  3.1  0.   0.   0.   0.   1. ]\n",
            " [ 0.7  3.   1.   0.   0.   0.   0. ]\n",
            " [ 3.5  2.9  1.   0.   0.   0.   0. ]\n",
            " [ 1.7  2.6  0.   0.   1.   0.   0. ]\n",
            " [ 1.1  2.   0.   0.   0.   0.   1. ]\n",
            " [ 1.   1.6  1.   0.   0.   0.   0. ]\n",
            " [ 0.6  1.6  0.   0.   0.   1.   0. ]\n",
            " [ 0.2  1.5  0.   0.   0.   0.   1. ]\n",
            " [ 0.6  1.3  0.   0.   0.   0.   1. ]\n",
            " [ 0.4  1.2  1.   0.   0.   0.   0. ]\n",
            " [ 0.3  1.   1.   0.   0.   0.   0. ]\n",
            " [ 0.5  1.   0.   0.   1.   0.   0. ]\n",
            " [ 0.7  0.9  0.   0.   0.   1.   0. ]\n",
            " [ 0.4  0.9  0.   0.   0.   1.   0. ]\n",
            " [ 0.7  0.8  0.   1.   0.   0.   0. ]\n",
            " [ 0.4  0.7  1.   0.   0.   0.   0. ]\n",
            " [ 0.1  0.7  0.   0.   0.   0.   1. ]\n",
            " [ 2.3  0.7  0.   1.   0.   0.   0. ]\n",
            " [ 0.2  0.7  0.   0.   0.   0.   1. ]\n",
            " [ 0.1  0.7  0.   0.   0.   0.   1. ]\n",
            " [ 1.3  0.6  1.   0.   0.   0.   0. ]\n",
            " [ 1.1  0.6  1.   0.   0.   0.   0. ]\n",
            " [ 0.3  0.6  0.   0.   0.   1.   0. ]\n",
            " [ 0.3  0.6  0.   0.   0.   0.   1. ]\n",
            " [ 0.1  0.6  0.   0.   0.   0.   1. ]\n",
            " [ 0.1  0.6  1.   0.   0.   0.   0. ]\n",
            " [ 0.3  0.5  1.   0.   0.   0.   0. ]\n",
            " [ 0.2  0.5  0.   0.   0.   0.   1. ]\n",
            " [ 0.2  0.5  0.   0.   0.   0.   1. ]\n",
            " [17.6  0.5  1.   0.   0.   0.   0. ]\n",
            " [ 0.2  0.5  0.   0.   0.   0.   1. ]\n",
            " [ 1.1  0.5  0.   1.   0.   0.   0. ]\n",
            " [ 0.1  0.5  0.   0.   0.   0.   1. ]\n",
            " [ 0.1  0.4  0.   0.   0.   0.   1. ]\n",
            " [ 0.4  0.4  0.   0.   0.   1.   0. ]\n",
            " [ 0.7  0.4  0.   0.   0.   0.   1. ]\n",
            " [ 0.5  0.4  1.   0.   0.   0.   0. ]\n",
            " [ 0.1  0.4  0.   0.   0.   0.   1. ]\n",
            " [ 0.2  0.3  0.   0.   0.   0.   1. ]\n",
            " [ 0.1  0.3  0.   0.   0.   0.   1. ]\n",
            " [ 0.1  0.3  0.   0.   0.   0.   1. ]\n",
            " [ 0.5  0.3  0.   1.   0.   0.   0. ]\n",
            " [ 0.2  0.3  0.   0.   1.   0.   0. ]\n",
            " [ 0.2  0.3  0.   0.   0.   1.   0. ]\n",
            " [ 0.1  0.3  0.   0.   0.   0.   1. ]\n",
            " [ 0.1  0.2  0.   0.   0.   0.   1. ]\n",
            " [ 0.1  0.2  0.   0.   0.   0.   1. ]\n",
            " [ 0.1  0.2  0.   0.   0.   0.   1. ]\n",
            " [ 0.1  0.2  1.   0.   0.   0.   0. ]\n",
            " [ 0.1  0.1  0.   0.   0.   0.   1. ]\n",
            " [ 0.1  0.1  0.   0.   1.   0.   0. ]\n",
            " [ 0.1  0.1  0.   0.   0.   0.   1. ]\n",
            " [ 0.1  0.1  0.   0.   0.   0.   0. ]\n",
            " [ 0.1  0.1  0.   0.   1.   0.   0. ]\n",
            " [ 0.4  0.1  1.   0.   0.   0.   0. ]\n",
            " [ 0.3  0.1  0.   1.   0.   0.   0. ]\n",
            " [ 0.1  0.1  0.   0.   0.   0.   1. ]\n",
            " [ 0.1  0.1  0.   0.   1.   0.   0. ]\n",
            " [ 0.3  0.1  1.   0.   0.   0.   0. ]\n",
            " [ 2.5  0.1  1.   0.   0.   0.   0. ]\n",
            " [ 0.2  0.1  0.   0.   1.   0.   0. ]\n",
            " [ 0.1  0.1  0.   0.   0.   1.   0. ]\n",
            " [ 0.1  0.1  0.   0.   1.   0.   0. ]\n",
            " [ 0.1  0.1  0.   0.   0.   0.   1. ]\n",
            " [ 0.2  0.1  1.   0.   0.   0.   0. ]\n",
            " [ 0.3  0.1  0.   1.   0.   0.   0. ]\n",
            " [ 0.1  0.1  1.   0.   0.   0.   0. ]\n",
            " [ 0.1  0.1  1.   0.   0.   0.   0. ]\n",
            " [ 0.1  0.1  0.   0.   1.   0.   0. ]\n",
            " [ 0.1  0.1  1.   0.   0.   0.   0. ]\n",
            " [ 0.3  0.1  0.   1.   0.   0.   0. ]]\n",
            "[ 4.3  4.9 14.8  2.9  7.1  2.1  2.1  2.   3.1  1.8  1.8  6.7  3.2  2.3\n",
            "  2.4  1.5  0.6  1.2  0.5  0.5  0.5  1.6  1.   1.3  0.7  0.3  2.6  0.3\n",
            "  0.3  2.6  0.7  0.6  0.7  0.3  0.2  0.3  0.3  0.4  2.   0.3  0.8  0.2\n",
            "  0.1  0.8  0.9  0.5  0.3  0.3  0.2  0.1  0.4  0.3  0.5  0.2  0.2  0.3\n",
            "  0.2  0.1  0.1  0.2  0.1  0.1  0.2  0.5  0.4  0.1  0.2  0.3  0.4  0.2\n",
            "  0.2  0.1  0.1  0.5  0.4  0.1  0.1  0.3  0.1  0.1]\n"
          ],
          "name": "stdout"
        }
      ]
    },
    {
      "cell_type": "code",
      "metadata": {
        "id": "1Wpucuimi7-M",
        "colab_type": "code",
        "colab": {}
      },
      "source": [
        "Trainf,Testf,Trainl,Testl=train_test_split(Overall_features,Overall_labels,test_size=0.30,random_state=40)\n",
        "Trainfc,Testfc,Trainlc,Testlc=train_test_split(Overall_features,Overall_labels,test_size=0.30,random_state=30)"
      ],
      "execution_count": null,
      "outputs": []
    },
    {
      "cell_type": "markdown",
      "metadata": {
        "id": "U4qybAg1Au5G",
        "colab_type": "text"
      },
      "source": [
        "**Step3.Fitting The Model**"
      ]
    },
    {
      "cell_type": "code",
      "metadata": {
        "id": "3aZjCwdti-1y",
        "colab_type": "code",
        "colab": {
          "base_uri": "https://localhost:8080/",
          "height": 35
        },
        "outputId": "5abfccd5-689b-45bf-b173-f630d05efb6a"
      },
      "source": [
        "obj=LinearRegression()\n",
        "obj.fit(Trainf,Trainl)\n",
        "obj2=LinearRegression()\n",
        "obj2.fit(Testfc,Testlc)"
      ],
      "execution_count": null,
      "outputs": [
        {
          "output_type": "execute_result",
          "data": {
            "text/plain": [
              "LinearRegression(copy_X=True, fit_intercept=True, n_jobs=None, normalize=False)"
            ]
          },
          "metadata": {
            "tags": []
          },
          "execution_count": 10
        }
      ]
    },
    {
      "cell_type": "markdown",
      "metadata": {
        "id": "gPQt-Wc_Tk9b",
        "colab_type": "text"
      },
      "source": [
        "**Step4. Predict The Model**"
      ]
    },
    {
      "cell_type": "code",
      "metadata": {
        "id": "H1-LBZNGTjAH",
        "colab_type": "code",
        "colab": {
          "base_uri": "https://localhost:8080/",
          "height": 156
        },
        "outputId": "37c6a6c2-5619-44db-d944-06efbc78a2a9"
      },
      "source": [
        "results=obj.predict(Testf)\n",
        "resultsc=obj2.predict(Testfc)\n",
        "print(results)\n",
        "print(resultsc)"
      ],
      "execution_count": null,
      "outputs": [
        {
          "output_type": "stream",
          "text": [
            "[ 0.9130559   0.57003874  0.07087889  0.3110971   0.4167225   0.11574315\n",
            " 11.041699    0.20547166  0.7605802   1.7813736   1.1824906   0.9461942\n",
            "  0.16060741  0.2503359   7.9976597   0.31322232  0.27389944  0.28979635\n",
            "  0.22903518  0.2213686   4.462061    0.29520017  1.7976315   2.306674  ]\n",
            "[ 1.6471546   0.05560922  1.3518077   1.6953145   0.02902094  1.9421337\n",
            "  0.18131393  0.06590504  6.220972    0.4569416   5.087075    0.33429602\n",
            "  0.40000007  3.8828146   0.10878578  0.12813738  1.927218    0.6413153\n",
            "  0.08219749  0.02902094  0.18680638  0.05560922  0.80990076 -0.01935224]\n"
          ],
          "name": "stdout"
        }
      ]
    },
    {
      "cell_type": "markdown",
      "metadata": {
        "id": "I4nEAcNlV82C",
        "colab_type": "text"
      },
      "source": [
        "**Step5. Evaluating The Model**"
      ]
    },
    {
      "cell_type": "code",
      "metadata": {
        "id": "XKMQ5TnYskPg",
        "colab_type": "code",
        "colab": {
          "base_uri": "https://localhost:8080/",
          "height": 52
        },
        "outputId": "12daa071-05f2-48f2-df26-5779c0ccb93b"
      },
      "source": [
        "# MAE(Mean Absolute Error) of the model\n",
        "MAE = mean_absolute_error(Testl, results)\n",
        "MAE2 = mean_absolute_error(Testlc,resultsc)\n",
        "print(MAE)\n",
        "print(MAE2)"
      ],
      "execution_count": null,
      "outputs": [
        {
          "output_type": "stream",
          "text": [
            "0.84213734\n",
            "0.26242113\n"
          ],
          "name": "stdout"
        }
      ]
    },
    {
      "cell_type": "code",
      "metadata": {
        "id": "5-evt5mSWET0",
        "colab_type": "code",
        "colab": {
          "base_uri": "https://localhost:8080/",
          "height": 52
        },
        "outputId": "b696b5e2-b567-4350-ac5b-2be3338e75e7"
      },
      "source": [
        "# MSE(Mean Squared Error) of the model\n",
        "MSE=mean_squared_error(Testl,results)\n",
        "MSE2=mean_squared_error(Testlc,resultsc)\n",
        "print(MSE)\n",
        "print(MSE2)"
      ],
      "execution_count": null,
      "outputs": [
        {
          "output_type": "stream",
          "text": [
            "4.4033384\n",
            "0.14712961\n"
          ],
          "name": "stdout"
        }
      ]
    },
    {
      "cell_type": "code",
      "metadata": {
        "id": "QZLPd_2_tcGN",
        "colab_type": "code",
        "colab": {
          "base_uri": "https://localhost:8080/",
          "height": 52
        },
        "outputId": "744bf5ad-ba27-4edb-ebf3-076a9242bc24"
      },
      "source": [
        "# RMSE(Root Mean Squared Error) of the model\n",
        "RMSE=np.sqrt(mean_squared_error(Testl,results))\n",
        "RMSE2=np.sqrt(mean_squared_error(Testlc,resultsc))\n",
        "print(RMSE)\n",
        "print(RMSE2)"
      ],
      "execution_count": null,
      "outputs": [
        {
          "output_type": "stream",
          "text": [
            "2.0984132\n",
            "0.38357478\n"
          ],
          "name": "stdout"
        }
      ]
    },
    {
      "cell_type": "code",
      "metadata": {
        "id": "35zLnbKRKwTJ",
        "colab_type": "code",
        "colab": {
          "base_uri": "https://localhost:8080/",
          "height": 295
        },
        "outputId": "430771c5-a8cd-44df-8dde-aafd633393eb"
      },
      "source": [
        "#Visualization Training Set by Scatter Plot\n",
        "plt.scatter(Trainf[:,0],Trainl,color='red')\n",
        "plt.title('TV_audience Vs Population Sahre (Training Set)')\n",
        "plt.xlabel('Population Share')\n",
        "plt.ylabel('TV_audience Share')\n",
        "plt.show()"
      ],
      "execution_count": null,
      "outputs": [
        {
          "output_type": "display_data",
          "data": {
            "image/png": "[encoded data removed]",
            "text/plain": [
              "<Figure size 432x288 with 1 Axes>"
            ]
          },
          "metadata": {
            "tags": [],
            "needs_background": "light"
          }
        }
      ]
    },
    {
      "cell_type": "code",
      "metadata": {
        "id": "ehY2LCBRKw6m",
        "colab_type": "code",
        "colab": {
          "base_uri": "https://localhost:8080/",
          "height": 295
        },
        "outputId": "622fdc01-95ae-4380-bf5b-b414fcfadb1c"
      },
      "source": [
        "#Visualization Training Set Scatter plot\n",
        "plt.scatter(Testf[:,0],Testl,color='red')\n",
        "plt.title('TV_audience Vs Population Sahre (Testing Set)')\n",
        "plt.xlabel('Population Share')\n",
        "plt.ylabel('TV_audience Share')\n",
        "plt.show()"
      ],
      "execution_count": null,
      "outputs": [
        {
          "output_type": "display_data",
          "data": {
            "image/png": "[encoded data removed]",
            "text/plain": [
              "<Figure size 432x288 with 1 Axes>"
            ]
          },
          "metadata": {
            "tags": [],
            "needs_background": "light"
          }
        }
      ]
    },
    {
      "cell_type": "code",
      "metadata": {
        "id": "Gm-jJIBCOPpR",
        "colab_type": "code",
        "colab": {
          "base_uri": "https://localhost:8080/",
          "height": 295
        },
        "outputId": "bbfac55b-8102-41f8-9012-49eb43526011"
      },
      "source": [
        "##Visualization using regression lines \n",
        "plt.scatter(Trainf[:,0],Trainl,color='red')\n",
        "plt.plot(Testf[:,0],results,color='black')\n",
        "plt.title('TV_audience Vs Population Sahre (Training Set)')\n",
        "plt.xlabel('Population Share')\n",
        "plt.ylabel('TV_audience Share')\n",
        "plt.show()"
      ],
      "execution_count": null,
      "outputs": [
        {
          "output_type": "display_data",
          "data": {
            "image/png": "[encoded data removed]",
            "text/plain": [
              "<Figure size 432x288 with 1 Axes>"
            ]
          },
          "metadata": {
            "tags": [],
            "needs_background": "light"
          }
        }
      ]
    },
    {
      "cell_type": "code",
      "metadata": {
        "id": "Pv8lHhcWZMwC",
        "colab_type": "code",
        "colab": {
          "base_uri": "https://localhost:8080/",
          "height": 295
        },
        "outputId": "e1b06c15-18ca-4d32-9aaf-389287f74c5d"
      },
      "source": [
        "#Visualization using regression lines \n",
        "plt.scatter(Testf[:,0],Testl,color='red')\n",
        "plt.plot(Testf[:,0],results,color='black') \n",
        "plt.title('TV_audience Vs Population share  (Testing Set)')\n",
        "plt.xlabel('Population Share')\n",
        "plt.ylabel('TV_audience Share')\n",
        "plt.show()\n"
      ],
      "execution_count": null,
      "outputs": [
        {
          "output_type": "display_data",
          "data": {
            "image/png": "[encoded data removed]",
            "text/plain": [
              "<Figure size 432x288 with 1 Axes>"
            ]
          },
          "metadata": {
            "tags": [],
            "needs_background": "light"
          }
        }
      ]
    }
  ]
}